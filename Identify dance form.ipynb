{
 "cells": [
  {
   "cell_type": "code",
   "execution_count": 1,
   "metadata": {
    "colab": {
     "base_uri": "https://localhost:8080/",
     "height": 33
    },
    "colab_type": "code",
    "id": "hi-JIqzgMQSB",
    "outputId": "c90822c9-8b41-43fc-9e82-2b76b3e7f2f2"
   },
   "outputs": [
    {
     "name": "stdout",
     "output_type": "stream",
     "text": [
      "Drive already mounted at /content/gdrive; to attempt to forcibly remount, call drive.mount(\"/content/gdrive\", force_remount=True).\n"
     ]
    }
   ],
   "source": [
    "# mounting google drive to the colob for files access\n",
    "from google.colab import drive\n",
    "drive.mount('/content/gdrive')"
   ]
  },
  {
   "cell_type": "code",
   "execution_count": 2,
   "metadata": {
    "colab": {
     "base_uri": "https://localhost:8080/",
     "height": 33
    },
    "colab_type": "code",
    "id": "wFTDqKVWMZZ5",
    "outputId": "f719e4c6-16f0-4e7e-ad67-a6afdd7f0b67"
   },
   "outputs": [
    {
     "name": "stderr",
     "output_type": "stream",
     "text": [
      "Using TensorFlow backend.\n"
     ]
    }
   ],
   "source": [
    "# Imporing required libraries\n",
    "import tensorflow as tf\n",
    "from keras.utils import to_categorical \n",
    "import numpy as np\n",
    "from keras.models import Sequential\n",
    "from tensorflow.keras import regularizers\n",
    "from keras.layers import Conv2D,Dense,Flatten,MaxPooling2D,Dropout\n",
    "import pandas as pd\n",
    "import cv2\n",
    "import matplotlib.pyplot as plt\n",
    "import h5py"
   ]
  },
  {
   "cell_type": "code",
   "execution_count": 3,
   "metadata": {
    "colab": {},
    "colab_type": "code",
    "id": "TpdgykJjkQfM"
   },
   "outputs": [],
   "source": [
    "# Defining dictionary to map output class to dance form\n",
    "d={0:'manipuri',1:'bharatanatyam',2:'odissi',3:'kathakali',4:'kathak',5:'sattriya',6:'kuchipudi',7:'mohiniyattam'}"
   ]
  },
  {
   "cell_type": "code",
   "execution_count": 4,
   "metadata": {
    "colab": {},
    "colab_type": "code",
    "id": "3XxcnDL1MaIb"
   },
   "outputs": [],
   "source": [
    "# Reading training file from drive in h5 format (File is saved in h5 format)\n",
    "with h5py.File(\"/content/gdrive/My Drive/Dance_train.h5\",\"r\") as hdf:\n",
    "    data1=hdf.get('X')\n",
    "    data2=hdf.get('Y')\n",
    "    X=np.array(data1)\n",
    "    Y=np.array(data2)"
   ]
  },
  {
   "cell_type": "code",
   "execution_count": 5,
   "metadata": {
    "colab": {
     "base_uri": "https://localhost:8080/",
     "height": 33
    },
    "colab_type": "code",
    "id": "v4zr1nCjM1ys",
    "outputId": "fdaf82c6-8939-41a5-f92b-61698e433626"
   },
   "outputs": [
    {
     "name": "stdout",
     "output_type": "stream",
     "text": [
      "Train data input shape is : (364, 256, 256, 1)\n"
     ]
    }
   ],
   "source": [
    "X=X.reshape((X.shape[0],X.shape[1],X.shape[2],1))\n",
    "print(\"Train data input shape is :\",X.shape)"
   ]
  },
  {
   "cell_type": "code",
   "execution_count": 6,
   "metadata": {
    "colab": {},
    "colab_type": "code",
    "id": "UnASVod4v3cj"
   },
   "outputs": [],
   "source": [
    "# Normalizing values\n",
    "X=X/255"
   ]
  },
  {
   "cell_type": "code",
   "execution_count": 7,
   "metadata": {
    "colab": {
     "base_uri": "https://localhost:8080/",
     "height": 33
    },
    "colab_type": "code",
    "id": "fjQpgFglM5Ji",
    "outputId": "9ed0bccd-a4f1-4ff6-dc07-a266c00df7e9"
   },
   "outputs": [
    {
     "name": "stdout",
     "output_type": "stream",
     "text": [
      "Train data ouput shape is : (364, 8)\n"
     ]
    }
   ],
   "source": [
    "# Converting ouput to categotical class\n",
    "Y=to_categorical(Y)\n",
    "print(\"Train data ouput shape is :\",Y.shape)"
   ]
  },
  {
   "cell_type": "code",
   "execution_count": 8,
   "metadata": {
    "colab": {},
    "colab_type": "code",
    "id": "zBGDOth6R17I"
   },
   "outputs": [],
   "source": [
    "# Defining model sequential object\n",
    "model=Sequential()"
   ]
  },
  {
   "cell_type": "code",
   "execution_count": 9,
   "metadata": {
    "colab": {},
    "colab_type": "code",
    "id": "Ers69CPCR2MW"
   },
   "outputs": [],
   "source": [
    "# Neural network layers \n",
    "model.add(Conv2D(2,kernel_size=3,strides=(1,1),activation=\"relu\",input_shape=(256,256,1)))\n",
    "model.add(MaxPooling2D(pool_size=(2,2),padding=\"valid\"))\n",
    "model.add(Dense(32,activation=\"relu\",kernel_regularizer=\"l2\"))\n",
    "model.add(Dropout(0.3))\n",
    "model.add(Conv2D(4,kernel_size=3,strides=(1,1),activation=\"relu\"))\n",
    "model.add(MaxPooling2D(pool_size=(2,2),padding=\"valid\"))\n",
    "model.add(Dense(64,activation=\"relu\",kernel_regularizer=\"l2\"))\n",
    "model.add(Dropout(0.3))\n",
    "model.add(Conv2D(8,kernel_size=3,strides=(1,1),activation=\"relu\"))\n",
    "model.add(MaxPooling2D(pool_size=(2,2),padding=\"valid\"))\n",
    "model.add(Dense(64,activation=\"relu\",kernel_regularizer=\"l2\"))\n",
    "model.add(Dropout(0.3))\n",
    "model.add(Flatten())\n",
    "model.add(Dense(8,activation='softmax'))"
   ]
  },
  {
   "cell_type": "code",
   "execution_count": 10,
   "metadata": {
    "colab": {},
    "colab_type": "code",
    "id": "xFgu_Gz2R2RM"
   },
   "outputs": [],
   "source": [
    "model.compile(optimizer='adam',loss=\"categorical_crossentropy\",metrics=['accuracy'])"
   ]
  },
  {
   "cell_type": "code",
   "execution_count": 11,
   "metadata": {
    "colab": {
     "base_uri": "https://localhost:8080/",
     "height": 1000
    },
    "colab_type": "code",
    "id": "uB3GG2ZoR2US",
    "outputId": "b6fe6b3a-c25a-41ee-81cc-f56b08f07ebc"
   },
   "outputs": [
    {
     "name": "stdout",
     "output_type": "stream",
     "text": [
      "Epoch 1/50\n",
      "364/364 [==============================] - 3s 8ms/step - loss: 2.2731 - accuracy: 0.1209\n",
      "Epoch 2/50\n",
      "364/364 [==============================] - 1s 4ms/step - loss: 2.0492 - accuracy: 0.2555\n",
      "Epoch 3/50\n",
      "364/364 [==============================] - 1s 4ms/step - loss: 1.4501 - accuracy: 0.5495\n",
      "Epoch 4/50\n",
      "364/364 [==============================] - 1s 4ms/step - loss: 0.8047 - accuracy: 0.7802\n",
      "Epoch 5/50\n",
      "364/364 [==============================] - 1s 4ms/step - loss: 0.4353 - accuracy: 0.9038\n",
      "Epoch 6/50\n",
      "364/364 [==============================] - 1s 4ms/step - loss: 0.2691 - accuracy: 0.9670\n",
      "Epoch 7/50\n",
      "364/364 [==============================] - 1s 4ms/step - loss: 0.1507 - accuracy: 0.9808\n",
      "Epoch 8/50\n",
      "364/364 [==============================] - 1s 4ms/step - loss: 0.1294 - accuracy: 0.9890\n",
      "Epoch 9/50\n",
      "364/364 [==============================] - 1s 4ms/step - loss: 0.1120 - accuracy: 0.9945\n",
      "Epoch 10/50\n",
      "364/364 [==============================] - 1s 4ms/step - loss: 0.0938 - accuracy: 1.0000\n",
      "Epoch 11/50\n",
      "364/364 [==============================] - 1s 4ms/step - loss: 0.0875 - accuracy: 1.0000\n",
      "Epoch 12/50\n",
      "364/364 [==============================] - 1s 4ms/step - loss: 0.1436 - accuracy: 0.9863\n",
      "Epoch 13/50\n",
      "364/364 [==============================] - 1s 4ms/step - loss: 0.1100 - accuracy: 0.9890\n",
      "Epoch 14/50\n",
      "364/364 [==============================] - 1s 4ms/step - loss: 0.1202 - accuracy: 0.9890\n",
      "Epoch 15/50\n",
      "364/364 [==============================] - 1s 4ms/step - loss: 0.0730 - accuracy: 1.0000\n",
      "Epoch 16/50\n",
      "364/364 [==============================] - 1s 4ms/step - loss: 0.0690 - accuracy: 1.0000\n",
      "Epoch 17/50\n",
      "364/364 [==============================] - 1s 4ms/step - loss: 0.0662 - accuracy: 1.0000\n",
      "Epoch 18/50\n",
      "364/364 [==============================] - 1s 4ms/step - loss: 0.0606 - accuracy: 1.0000\n",
      "Epoch 19/50\n",
      "364/364 [==============================] - 1s 4ms/step - loss: 0.0567 - accuracy: 1.0000\n",
      "Epoch 20/50\n",
      "364/364 [==============================] - 1s 4ms/step - loss: 0.0533 - accuracy: 1.0000\n",
      "Epoch 21/50\n",
      "364/364 [==============================] - 1s 4ms/step - loss: 0.0501 - accuracy: 1.0000\n",
      "Epoch 22/50\n",
      "364/364 [==============================] - 1s 4ms/step - loss: 0.0474 - accuracy: 1.0000\n",
      "Epoch 23/50\n",
      "364/364 [==============================] - 1s 4ms/step - loss: 0.0447 - accuracy: 1.0000\n",
      "Epoch 24/50\n",
      "364/364 [==============================] - 1s 4ms/step - loss: 0.0423 - accuracy: 1.0000\n",
      "Epoch 25/50\n",
      "364/364 [==============================] - 1s 4ms/step - loss: 0.0400 - accuracy: 1.0000\n",
      "Epoch 26/50\n",
      "364/364 [==============================] - 1s 4ms/step - loss: 0.0379 - accuracy: 1.0000\n",
      "Epoch 27/50\n",
      "364/364 [==============================] - 1s 4ms/step - loss: 0.0361 - accuracy: 1.0000\n",
      "Epoch 28/50\n",
      "364/364 [==============================] - 1s 4ms/step - loss: 0.0343 - accuracy: 1.0000\n",
      "Epoch 29/50\n",
      "364/364 [==============================] - 1s 4ms/step - loss: 0.0366 - accuracy: 0.9973\n",
      "Epoch 30/50\n",
      "364/364 [==============================] - 1s 4ms/step - loss: 0.0398 - accuracy: 0.9973\n",
      "Epoch 31/50\n",
      "364/364 [==============================] - 1s 4ms/step - loss: 0.0801 - accuracy: 0.9835\n",
      "Epoch 32/50\n",
      "364/364 [==============================] - 1s 4ms/step - loss: 0.1253 - accuracy: 0.9835\n",
      "Epoch 33/50\n",
      "364/364 [==============================] - 1s 4ms/step - loss: 0.1344 - accuracy: 0.9643\n",
      "Epoch 34/50\n",
      "364/364 [==============================] - 1s 4ms/step - loss: 0.1479 - accuracy: 0.9725\n",
      "Epoch 35/50\n",
      "364/364 [==============================] - 1s 4ms/step - loss: 0.0588 - accuracy: 0.9973\n",
      "Epoch 36/50\n",
      "364/364 [==============================] - 1s 4ms/step - loss: 0.0385 - accuracy: 1.0000\n",
      "Epoch 37/50\n",
      "364/364 [==============================] - 1s 4ms/step - loss: 0.0363 - accuracy: 1.0000\n",
      "Epoch 38/50\n",
      "364/364 [==============================] - 1s 4ms/step - loss: 0.0340 - accuracy: 1.0000\n",
      "Epoch 39/50\n",
      "364/364 [==============================] - 1s 4ms/step - loss: 0.0325 - accuracy: 1.0000\n",
      "Epoch 40/50\n",
      "364/364 [==============================] - 1s 4ms/step - loss: 0.0312 - accuracy: 1.0000\n",
      "Epoch 41/50\n",
      "364/364 [==============================] - 1s 4ms/step - loss: 0.0302 - accuracy: 1.0000\n",
      "Epoch 42/50\n",
      "364/364 [==============================] - 1s 4ms/step - loss: 0.0292 - accuracy: 1.0000\n",
      "Epoch 43/50\n",
      "364/364 [==============================] - 1s 4ms/step - loss: 0.0278 - accuracy: 1.0000\n",
      "Epoch 44/50\n",
      "364/364 [==============================] - 1s 4ms/step - loss: 0.0269 - accuracy: 1.0000\n",
      "Epoch 45/50\n",
      "364/364 [==============================] - 1s 4ms/step - loss: 0.0258 - accuracy: 1.0000\n",
      "Epoch 46/50\n",
      "364/364 [==============================] - 1s 4ms/step - loss: 0.0248 - accuracy: 1.0000\n",
      "Epoch 47/50\n",
      "364/364 [==============================] - 1s 4ms/step - loss: 0.0239 - accuracy: 1.0000\n",
      "Epoch 48/50\n",
      "364/364 [==============================] - 1s 4ms/step - loss: 0.0231 - accuracy: 1.0000\n",
      "Epoch 49/50\n",
      "364/364 [==============================] - 1s 4ms/step - loss: 0.0224 - accuracy: 1.0000\n",
      "Epoch 50/50\n",
      "364/364 [==============================] - 1s 4ms/step - loss: 0.0215 - accuracy: 1.0000\n"
     ]
    }
   ],
   "source": [
    "# training model with batch_size\n",
    "hist=model.fit(X,Y,epochs=50,batch_size=8)"
   ]
  },
  {
   "cell_type": "code",
   "execution_count": 12,
   "metadata": {
    "colab": {
     "base_uri": "https://localhost:8080/",
     "height": 67
    },
    "colab_type": "code",
    "id": "SrQFAEjeR2W9",
    "outputId": "ce342d81-5d1a-40b7-809e-1fd92021be9c"
   },
   "outputs": [
    {
     "name": "stdout",
     "output_type": "stream",
     "text": [
      "364/364 [==============================] - 1s 2ms/step\n",
      "Cost is : 0.02093994836476478\n",
      "Training accuracy is : 1.0\n"
     ]
    }
   ],
   "source": [
    "# evaluating training data\n",
    "pred=model.evaluate(X,Y)\n",
    "print(\"Cost is :\",pred[0])\n",
    "print(\"Training accuracy is :\",pred[1])"
   ]
  },
  {
   "cell_type": "code",
   "execution_count": 13,
   "metadata": {
    "colab": {
     "base_uri": "https://localhost:8080/",
     "height": 296
    },
    "colab_type": "code",
    "id": "_qg9i1zxGfq3",
    "outputId": "6d9eae0f-b899-4b39-e09e-7f9f9cb8e4c9"
   },
   "outputs": [
    {
     "data": {
      "text/plain": [
       "[<matplotlib.lines.Line2D at 0x7f3803ef45f8>]"
      ]
     },
     "execution_count": 13,
     "metadata": {
      "tags": []
     },
     "output_type": "execute_result"
    },
    {
     "data": {
      "image/png": "[encoded data removed]",
      "text/plain": [
       "<Figure size 432x288 with 1 Axes>"
      ]
     },
     "metadata": {
      "needs_background": "light",
      "tags": []
     },
     "output_type": "display_data"
    }
   ],
   "source": [
    "plt.xlabel(\"Iterations\")\n",
    "plt.ylabel(\"loss\")\n",
    "plt.plot(list(hist.history.values())[0],'k-o')"
   ]
  },
  {
   "cell_type": "code",
   "execution_count": 14,
   "metadata": {
    "colab": {},
    "colab_type": "code",
    "id": "zKb5Z3K9XUwe"
   },
   "outputs": [],
   "source": [
    "# Reading test dataset from drive\n",
    "with h5py.File(\"/content/gdrive/My Drive/Dance_test.h5\",\"r\") as hdf:\n",
    "    data1=hdf.get('X')\n",
    "    Xtest=np.array(data1)"
   ]
  },
  {
   "cell_type": "code",
   "execution_count": 15,
   "metadata": {
    "colab": {
     "base_uri": "https://localhost:8080/",
     "height": 33
    },
    "colab_type": "code",
    "id": "KX5jxNVcXa0e",
    "outputId": "c1836866-dacd-445f-ce01-fdb34df16bcb"
   },
   "outputs": [
    {
     "name": "stdout",
     "output_type": "stream",
     "text": [
      "Test data shape is : (156, 256, 256, 1)\n"
     ]
    }
   ],
   "source": [
    "# normalize test values\n",
    "Xtest=Xtest/255\n",
    "Xtest=Xtest.reshape((Xtest.shape[0],Xtest.shape[1],Xtest.shape[2],1))\n",
    "print(\"Test data shape is :\",Xtest.shape)"
   ]
  },
  {
   "cell_type": "code",
   "execution_count": 16,
   "metadata": {
    "colab": {},
    "colab_type": "code",
    "id": "3aTmWbxcgp3T"
   },
   "outputs": [],
   "source": [
    "# predicting test data class\n",
    "pr=model.predict(Xtest)"
   ]
  },
  {
   "cell_type": "code",
   "execution_count": 17,
   "metadata": {
    "colab": {
     "base_uri": "https://localhost:8080/",
     "height": 33
    },
    "colab_type": "code",
    "id": "eM94PsHOhfka",
    "outputId": "525c16f2-258e-472f-d064-5ba8dfddd62c"
   },
   "outputs": [
    {
     "name": "stdout",
     "output_type": "stream",
     "text": [
      "Test data output shape : (156, 8)\n"
     ]
    }
   ],
   "source": [
    "\n",
    "print(\"Test data output shape :\",pr.shape)"
   ]
  },
  {
   "cell_type": "code",
   "execution_count": 18,
   "metadata": {
    "colab": {},
    "colab_type": "code",
    "id": "q2My5HOzhzb8"
   },
   "outputs": [],
   "source": [
    "# Reading test csv file to get test image name to create prediction csv file\n",
    "image=pd.read_csv(\"/content/gdrive/My Drive/test.csv\")"
   ]
  },
  {
   "cell_type": "code",
   "execution_count": 19,
   "metadata": {
    "colab": {
     "base_uri": "https://localhost:8080/",
     "height": 404
    },
    "colab_type": "code",
    "id": "4Hsq-QfR_ar7",
    "outputId": "92741d1c-c2eb-4d5e-9f94-69d76f895afe"
   },
   "outputs": [
    {
     "data": {
      "text/html": [
       "<div>\n",
       "<style scoped>\n",
       "    .dataframe tbody tr th:only-of-type {\n",
       "        vertical-align: middle;\n",
       "    }\n",
       "\n",
       "    .dataframe tbody tr th {\n",
       "        vertical-align: top;\n",
       "    }\n",
       "\n",
       "    .dataframe thead th {\n",
       "        text-align: right;\n",
       "    }\n",
       "</style>\n",
       "<table border=\"1\" class=\"dataframe\">\n",
       "  <thead>\n",
       "    <tr style=\"text-align: right;\">\n",
       "      <th></th>\n",
       "      <th>Image</th>\n",
       "    </tr>\n",
       "  </thead>\n",
       "  <tbody>\n",
       "    <tr>\n",
       "      <th>0</th>\n",
       "      <td>508.jpg</td>\n",
       "    </tr>\n",
       "    <tr>\n",
       "      <th>1</th>\n",
       "      <td>246.jpg</td>\n",
       "    </tr>\n",
       "    <tr>\n",
       "      <th>2</th>\n",
       "      <td>473.jpg</td>\n",
       "    </tr>\n",
       "    <tr>\n",
       "      <th>3</th>\n",
       "      <td>485.jpg</td>\n",
       "    </tr>\n",
       "    <tr>\n",
       "      <th>4</th>\n",
       "      <td>128.jpg</td>\n",
       "    </tr>\n",
       "    <tr>\n",
       "      <th>...</th>\n",
       "      <td>...</td>\n",
       "    </tr>\n",
       "    <tr>\n",
       "      <th>151</th>\n",
       "      <td>366.jpg</td>\n",
       "    </tr>\n",
       "    <tr>\n",
       "      <th>152</th>\n",
       "      <td>226.jpg</td>\n",
       "    </tr>\n",
       "    <tr>\n",
       "      <th>153</th>\n",
       "      <td>35.jpg</td>\n",
       "    </tr>\n",
       "    <tr>\n",
       "      <th>154</th>\n",
       "      <td>458.jpg</td>\n",
       "    </tr>\n",
       "    <tr>\n",
       "      <th>155</th>\n",
       "      <td>358.jpg</td>\n",
       "    </tr>\n",
       "  </tbody>\n",
       "</table>\n",
       "<p>156 rows × 1 columns</p>\n",
       "</div>"
      ],
      "text/plain": [
       "       Image\n",
       "0    508.jpg\n",
       "1    246.jpg\n",
       "2    473.jpg\n",
       "3    485.jpg\n",
       "4    128.jpg\n",
       "..       ...\n",
       "151  366.jpg\n",
       "152  226.jpg\n",
       "153   35.jpg\n",
       "154  458.jpg\n",
       "155  358.jpg\n",
       "\n",
       "[156 rows x 1 columns]"
      ]
     },
     "execution_count": 19,
     "metadata": {
      "tags": []
     },
     "output_type": "execute_result"
    }
   ],
   "source": [
    "image"
   ]
  },
  {
   "cell_type": "code",
   "execution_count": 20,
   "metadata": {
    "colab": {},
    "colab_type": "code",
    "id": "ozimvYJihzoH"
   },
   "outputs": [],
   "source": [
    "# Assigning dance class name based on prediction \n",
    "l1=list()\n",
    "for i in range(0,len(pr)):\n",
    "    temp=list()\n",
    "    temp.append(image['Image'][i])\n",
    "    pp=np.argmax(pr[i])\n",
    "    temp.append(d[pp])\n",
    "    l1.append(temp)"
   ]
  },
  {
   "cell_type": "code",
   "execution_count": 21,
   "metadata": {
    "colab": {},
    "colab_type": "code",
    "id": "D-9ve7y6cFXX"
   },
   "outputs": [],
   "source": [
    "# Creating dataframe to input prediction class\n",
    "df1=pd.DataFrame(l1,columns=['Image','target'])"
   ]
  },
  {
   "cell_type": "code",
   "execution_count": 22,
   "metadata": {
    "colab": {
     "base_uri": "https://localhost:8080/",
     "height": 404
    },
    "colab_type": "code",
    "id": "PEGBtLzIcq3g",
    "outputId": "3cdf19c7-8f50-4add-9d42-4c9ec8e46b56"
   },
   "outputs": [
    {
     "data": {
      "text/html": [
       "<div>\n",
       "<style scoped>\n",
       "    .dataframe tbody tr th:only-of-type {\n",
       "        vertical-align: middle;\n",
       "    }\n",
       "\n",
       "    .dataframe tbody tr th {\n",
       "        vertical-align: top;\n",
       "    }\n",
       "\n",
       "    .dataframe thead th {\n",
       "        text-align: right;\n",
       "    }\n",
       "</style>\n",
       "<table border=\"1\" class=\"dataframe\">\n",
       "  <thead>\n",
       "    <tr style=\"text-align: right;\">\n",
       "      <th></th>\n",
       "      <th>Image</th>\n",
       "      <th>target</th>\n",
       "    </tr>\n",
       "  </thead>\n",
       "  <tbody>\n",
       "    <tr>\n",
       "      <th>0</th>\n",
       "      <td>508.jpg</td>\n",
       "      <td>sattriya</td>\n",
       "    </tr>\n",
       "    <tr>\n",
       "      <th>1</th>\n",
       "      <td>246.jpg</td>\n",
       "      <td>kathakali</td>\n",
       "    </tr>\n",
       "    <tr>\n",
       "      <th>2</th>\n",
       "      <td>473.jpg</td>\n",
       "      <td>odissi</td>\n",
       "    </tr>\n",
       "    <tr>\n",
       "      <th>3</th>\n",
       "      <td>485.jpg</td>\n",
       "      <td>odissi</td>\n",
       "    </tr>\n",
       "    <tr>\n",
       "      <th>4</th>\n",
       "      <td>128.jpg</td>\n",
       "      <td>kathak</td>\n",
       "    </tr>\n",
       "    <tr>\n",
       "      <th>...</th>\n",
       "      <td>...</td>\n",
       "      <td>...</td>\n",
       "    </tr>\n",
       "    <tr>\n",
       "      <th>151</th>\n",
       "      <td>366.jpg</td>\n",
       "      <td>sattriya</td>\n",
       "    </tr>\n",
       "    <tr>\n",
       "      <th>152</th>\n",
       "      <td>226.jpg</td>\n",
       "      <td>kathakali</td>\n",
       "    </tr>\n",
       "    <tr>\n",
       "      <th>153</th>\n",
       "      <td>35.jpg</td>\n",
       "      <td>kathak</td>\n",
       "    </tr>\n",
       "    <tr>\n",
       "      <th>154</th>\n",
       "      <td>458.jpg</td>\n",
       "      <td>odissi</td>\n",
       "    </tr>\n",
       "    <tr>\n",
       "      <th>155</th>\n",
       "      <td>358.jpg</td>\n",
       "      <td>sattriya</td>\n",
       "    </tr>\n",
       "  </tbody>\n",
       "</table>\n",
       "<p>156 rows × 2 columns</p>\n",
       "</div>"
      ],
      "text/plain": [
       "       Image     target\n",
       "0    508.jpg   sattriya\n",
       "1    246.jpg  kathakali\n",
       "2    473.jpg     odissi\n",
       "3    485.jpg     odissi\n",
       "4    128.jpg     kathak\n",
       "..       ...        ...\n",
       "151  366.jpg   sattriya\n",
       "152  226.jpg  kathakali\n",
       "153   35.jpg     kathak\n",
       "154  458.jpg     odissi\n",
       "155  358.jpg   sattriya\n",
       "\n",
       "[156 rows x 2 columns]"
      ]
     },
     "execution_count": 22,
     "metadata": {
      "tags": []
     },
     "output_type": "execute_result"
    }
   ],
   "source": [
    "df1"
   ]
  },
  {
   "cell_type": "code",
   "execution_count": 23,
   "metadata": {
    "colab": {},
    "colab_type": "code",
    "id": "7KtDZt5bcrhn"
   },
   "outputs": [],
   "source": [
    "# Saving prediction csv file to upload \n",
    "df1.to_csv('/content/gdrive/My Drive/dance_prediction.csv')"
   ]
  },
  {
   "cell_type": "code",
   "execution_count": 23,
   "metadata": {
    "colab": {},
    "colab_type": "code",
    "id": "7IqUxx8Ok1bi"
   },
   "outputs": [],
   "source": []
  }
 ],
 "metadata": {
  "accelerator": "GPU",
  "colab": {
   "collapsed_sections": [],
   "name": "idf-1.ipynb",
   "provenance": []
  },
  "kernelspec": {
   "display_name": "Python 3",
   "language": "python",
   "name": "python3"
  },
  "language_info": {
   "codemirror_mode": {
    "name": "ipython",
    "version": 3
   },
   "file_extension": ".py",
   "mimetype": "text/x-python",
   "name": "python",
   "nbconvert_exporter": "python",
   "pygments_lexer": "ipython3",
   "version": "3.8.2"
  }
 },
 "nbformat": 4,
 "nbformat_minor": 1
}
